{
 "cells": [
  {
   "cell_type": "code",
   "execution_count": 41,
   "id": "53113dae",
   "metadata": {},
   "outputs": [],
   "source": [
    "import pandas as pd \n",
    "import selenium\n",
    "from selenium import webdriver\n",
    "from selenium.webdriver.common.by import By\n",
    "import time\n",
    "from bs4 import BeautifulSoup \n",
    "from selenium.webdriver.support.ui import WebDriverWait\n",
    "from selenium.webdriver.support import expected_conditions as EC\n",
    "\n",
    "baseURL = \"https://www.fotmob.com/leagues/47/matches/premier-league?season=2024-2025&group=by-round&round=0\"\n",
    "#https://www.fotmob.com/leagues/47/matches/premier-league?season=2024-2025&group=by-round&round=0 <--- change this to change the rounds \n",
    "#https://www.fotmob.com/leagues/47/matches/premier-league?season=2024-2025  <--- change this to change the seasons\n",
    "\n",
    "\n"
   ]
  },
  {
   "cell_type": "markdown",
   "id": "8d7cd7a1",
   "metadata": {},
   "source": [
    "Elements to scrape: <span class=\"css-17khfgy-MFHeaderStatusScore e1edwvyy3\">1 - 0</span>\n",
    "<span class=\"css-dpbuul-TeamNameItself-TeamNameOnTabletUp e10mt4ks1\">Manchester United</span>\n",
    "<span class=\"css-dpbuul-TeamNameItself-TeamNameOnTabletUp e10mt4ks1\">Fulham</span>\n",
    "\n",
    "<a href=\"https://bet365.com/hub/aff/app-hero-banner-1?affiliate=365_03745294\" target=\"_blank\" rel=\"noreferrer noopener\" draggable=\"false\" class=\"css-1mmq277-OddsLinkCSS ex8b9pw0\" aria-label=\"\"><span class=\"css-glhe5q-OddsLinkName ex8b9pw1\">1</span><span class=\"css-bxsg34-OddsLinkText ex8b9pw2\">1.67</span></a>\n",
    "<a href=\"https://bet365.com/hub/aff/app-hero-banner-1?affiliate=365_03745294\" target=\"_blank\" rel=\"noreferrer noopener\" draggable=\"false\" class=\"css-1mmq277-OddsLinkCSS ex8b9pw0\" aria-label=\"\"><span class=\"css-1t4y3gh-OddsLinkName ex8b9pw1\">X</span><span class=\"css-12frcyt-OddsLinkText ex8b9pw2\">4.10</span></a>\n",
    "<a href=\"https://bet365.com/hub/aff/app-hero-banner-1?affiliate=365_03745294\" target=\"_blank\" rel=\"noreferrer noopener\" draggable=\"false\" class=\"css-1mmq277-OddsLinkCSS ex8b9pw0\" aria-label=\"\"><span class=\"css-1t4y3gh-OddsLinkName ex8b9pw1\">2</span><span class=\"css-12frcyt-OddsLinkText ex8b9pw2\">5.00</span></a>\n",
    "\n",
    "<div class=\"css-1tttqnj-MatchDateCSS e1r6ite30\"><svg xmlns=\"http://www.w3.org/2000/svg\" width=\"18\" height=\"18\" viewBox=\"0 0 18 18\"><path data-name=\"Path 4378\" d=\"M0 0h18v18H0z\" fill=\"none\"></path><path data-name=\"Path 4379\" d=\"M12.75 10.25H10.5a.752.752 0 0 0-.75.75v2.25a.752.752 0 0 0 .75.75h2.25a.752.752 0 0 0 .75-.75V11a.752.752 0 0 0-.75-.75zm0-7.5v.75h-6v-.75a.75.75 0 1 0-1.5 0v.75H4.5A1.493 1.493 0 0 0 3.007 5L3 15.5A1.5 1.5 0 0 0 4.5 17H15a1.5 1.5 0 0 0 1.5-1.5V5A1.5 1.5 0 0 0 15 3.5h-.75v-.75a.75.75 0 0 0-1.5 0zm1.5 12.75h-9a.752.752 0 0 1-.75-.75v-7.5H15v7.5a.752.752 0 0 1-.75.75z\" transform=\"translate(-.75 -.5)\" fill=\"var(--MFFullscreenColorScheme-headerIconColor)\"></path></svg><time datetime=\"2024-08-16T19:00:00.000Z\"><span>Fri, August 16, 2024</span>, <span>3:00 PM</span></time></div>\n",
    "<a href=\"https://www.google.com/maps/search/53.463094,-2.291374//@53.463094,-2.291374&amp;map_action=map\" rel=\"noopener noreferrer\" target=\"_blank\" class=\"css-ndn9i5-VenueCSS ehaqlza0\"><svg xmlns=\"http://www.w3.org/2000/svg\" width=\"20\" height=\"20\" viewBox=\"0 0 25 25\"><g id=\"ic_venue_24px\" transform=\"translate(-168 -1536)\"><path id=\"Rectangle_2928\" fill=\"none\" d=\"M0 0H25V25H0z\" transform=\"translate(168 1536)\"></path><g fill=\"var(--MFFullscreenColorScheme-headerIconColor)\" id=\"Group_2069\" transform=\"translate(169.501 1538.187)\"><path id=\"Path_806\" d=\"M10.907 9.2c-.5 0-1.007.3-1.007.7s.5.7 1.007.7 1.007-.3 1.007-.7-.504-.7-1.007-.7z\" class=\"cls-2\" transform=\"translate(.068 .063)\"></path><g id=\"Group_2068\"><path id=\"Path_807\" d=\"M13.762 8.936h3.423l-1.308-3.524-.2-.4A2.6 2.6 0 0 0 13.561 3.7H8.426A2.586 2.586 0 0 0 6.11 5.311L4.7 8.936h3.524a2.967 2.967 0 0 1 2.819-1.712 2.923 2.923 0 0 1 2.719 1.712z\" class=\"cls-2\" transform=\"translate(.032 .026)\"></path><path id=\"Path_808\" d=\"M21.447 8.156l-2.819-6.142-.3-.5A3.588 3.588 0 0 0 15.3 0H6.646a3.725 3.725 0 0 0-3.223 1.913L.7 7.753a6.346 6.346 0 0 0-.7 3.021v4.833a4.834 4.834 0 0 0 4.833 4.833h12.385a4.834 4.834 0 0 0 4.833-4.833v-4.733a6.307 6.307 0 0 0-.604-2.718zm-1.41 3.121v.4A2.739 2.739 0 0 1 17.52 14.4a4.517 4.517 0 0 0 .5-1.913v-.6a2.788 2.788 0 0 0-.1-.906H13.9a2.967 2.967 0 0 1-2.819 1.712 3.072 3.072 0 0 1-2.819-1.712H4.128c0 .3-.1.6-.1.906v.6a4.165 4.165 0 0 0 .5 1.913 2.739 2.739 0 0 1-2.514-2.72v-.906a5.892 5.892 0 0 1 .5-2.215l2.722-5.74a1.607 1.607 0 0 1 1.41-.806H15.3a2 2 0 0 1 1.309.6l3.021 6.444a3.949 3.949 0 0 1 .4 1.812z\" class=\"cls-2\"></path></g></g></g></svg><span>Old Trafford</span></a>\n",
    "<div class=\"css-1q2gy5n-RevereeCSS e1876na90\"><svg xmlns=\"http://www.w3.org/2000/svg\" width=\"18\" height=\"18\" viewBox=\"0 0 18 18\"><g data-name=\"Group 6810\"><path data-name=\"Rectangle 5981\" fill=\"none\" d=\"M0 0h18v18H0z\"></path><path data-name=\"Rectangle 5982\" fill=\"none\" d=\"M0 0h18v18H0z\"></path></g><g data-name=\"Group 6890\"><path data-name=\"Path 4330\" d=\"M102.8 253.325h2.869a.829.829 0 0 0 .587-.225 67.1 67.1 0 0 1 .578-.525l.418-.379a.69.69 0 0 0 .214-.906l-.543-1.363c-.569-1.431-1.157-2.91-1.748-4.361l-.133-.33a15.9 15.9 0 0 0-.923-2.013 3.977 3.977 0 0 0-3.667-2.118H93.7a3.18 3.18 0 0 0-2.546 1.24 5.263 5.263 0 0 0-1.181 2.9 6.56 6.56 0 0 0 1.143 4.615 3.852 3.852 0 0 0 3.4 1.784c.442-.015.894-.012 1.33-.009h.808c.1 0 .13.02.164.108.1.253.2.506.306.752l.127.3a.715.715 0 0 0 .774.518h4.775zm2.93-2.471H99.657c-.131 0-.181-.035-.233-.165l-.46-1.144c-.732-1.821-1.489-3.7-2.255-5.548a7.7 7.7 0 0 0-.543-1.009c-.086-.142-.175-.29-.258-.436a.9.9 0 0 0-.051-.078h4.915a2.3 2.3 0 0 1 1.7.786 4.606 4.606 0 0 1 .926 1.509c.619 1.523 1.243 3.073 1.848 4.572l.567 1.406c.012.029.022.059.033.095a.579.579 0 0 1-.119.011z\" transform=\"translate(-89.93 -238.144)\" fill=\"var(--MFFullscreenColorScheme-headerIconColor)\"></path><path data-name=\"Path 4331\" d=\"M318.673 382.122h-3.332a.492.492 0 0 1-.456-.3l-.434-1.05a.493.493 0 0 1 .456-.682h3.332a.492.492 0 0 1 .456.3l.434 1.05a.493.493 0 0 1-.456.682z\" transform=\"translate(-305.259 -371.456)\" fill=\"var(--MFFullscreenColorScheme-headerIconColor)\"></path></g></svg><span>Robert Jones</span></div>"
   ]
  },
  {
   "cell_type": "code",
   "execution_count": 61,
   "id": "5542a0c4",
   "metadata": {},
   "outputs": [
    {
     "name": "stdout",
     "output_type": "stream",
     "text": [
      "['0', '1', '2', '3', '4', '5', '6', '7', '8', '9', '10', '11', '12', '13', '14', '15', '16', '17', '18', '19', '20', '21', '22', '23', '24', '25', '26', '27', '28', '29', '30', '31', '32', '33', '34', '35', '36', '37']\n",
      "['0', '1', '2', '3', '4', '5', '6', '7', '8', '9', '10', '11', '12', '13', '14', '15', '16', '17', '18', '19', '20', '21', '22', '23', '24', '25', '26', '27', '28', '29', '30', '31', '32', '33']\n",
      "['0', '1', '2', '3', '4', '5', '6', '7', '8', '9', '10', '11', '12', '13', '14', '15', '16', '17', '18', '19', '20', '21', '22', '23', '24', '25', '26', '27', '28', '29', '30', '31', '32', '33', '34', '35', '36', '37']\n"
     ]
    }
   ],
   "source": [
    "seasons = ['2020-2021','2021-2022', '2023-2024', '2024-2025',  '2025-2026'] \n",
    "rounds = [] \n",
    "for i in range(0,38): \n",
    "    rounds.append(str(i)) \n",
    " \n",
    "print(rounds) \n",
    "\n",
    "bundesLigaRounds = rounds.copy() \n",
    "for i in range(4): \n",
    "    bundesLigaRounds.pop()\n",
    "\n",
    "print(bundesLigaRounds)\n",
    "print(rounds)"
   ]
  },
  {
   "cell_type": "code",
   "execution_count": 35,
   "id": "6e16191f",
   "metadata": {},
   "outputs": [
    {
     "name": "stdout",
     "output_type": "stream",
     "text": [
      "62\n"
     ]
    }
   ],
   "source": [
    "#testing\n",
    "print(baseURL.index('n='))"
   ]
  },
  {
   "cell_type": "code",
   "execution_count": 81,
   "id": "31a23eb8",
   "metadata": {},
   "outputs": [],
   "source": [
    "\n",
    "\n",
    "\n",
    "\n",
    "def getAllMatchesForSeason(url, season, isBundesLiga=False):\n",
    "    seasonMatchLinks = []\n",
    "    leagueRounds = rounds\n",
    "    \n",
    "    driver = webdriver.Chrome()\n",
    "    seasonIndexStart = url.index('n=') + 2\n",
    "    seasonIndexEnd = seasonIndexStart + 9 \n",
    "    if(isBundesLiga): \n",
    "        leagueRounds = bundesLigaRounds\n",
    "    for round in leagueRounds:\n",
    "     \n",
    "        # ex https://www.fotmob.com/leagues/47/matches/premier-league?season=<2024-2025>&group=by-round&round=<0> <> shows what is being inputted.\n",
    "        currentURL = url[:seasonIndexStart] + season + url[seasonIndexEnd:] + round\n",
    "        driver.get(currentURL)\n",
    "        WebDriverWait(driver, 10).until(\n",
    "            EC.presence_of_all_elements_located((By.CLASS_NAME, \"css-1ajdexg-MatchWrapper\"))\n",
    "        )\n",
    "        matchLinkElements = driver.find_elements(By.CLASS_NAME, \"css-1ajdexg-MatchWrapper\")\n",
    "\n",
    "        for element in matchLinkElements:\n",
    "            seasonMatchLinks.append(element.get_attribute(\"href\"))\n",
    "    \n",
    "    driver.quit()\n",
    "    return seasonMatchLinks\n",
    "\n",
    "\n",
    "\n",
    "def getAllMatchesFor5Seasons(url, isBundesLiga=False):\n",
    "    leagueMatchLinks = [] \n",
    "    for season in seasons: \n",
    "        leagueMatchLinks.extend(getAllMatchesForSeason(url, season, isBundesLiga=isBundesLiga))\n",
    "    return leagueMatchLinks\n",
    "\n",
    "\n",
    "\n",
    "\n"
   ]
  },
  {
   "cell_type": "code",
   "execution_count": 75,
   "id": "55383d3c",
   "metadata": {},
   "outputs": [],
   "source": [
    "premURL = 'https://www.fotmob.com/leagues/47/matches/premier-league?season=2024-2025&group=by-round&round='\n",
    "\n",
    "\n",
    "\n",
    "laLigaURL = 'https://www.fotmob.com/leagues/87/matches/laliga?group=by-round&season=2020-2021&round='\n",
    "ligue1URL =  \"https://www.fotmob.com/leagues/53/matches/ligue-1?group=by-round&season=2021-2022&round=\"\n",
    "\n",
    "serieAURL = 'https://www.fotmob.com/leagues/55/matches/serie?group=by-round&season=2023-2024&round='\n",
    "\n",
    "bundesLigaURL = 'https://www.fotmob.com/leagues/54/matches/bundesliga?season=2023-2024&group=by-round&round='"
   ]
  },
  {
   "cell_type": "code",
   "execution_count": 87,
   "id": "73c2da64",
   "metadata": {},
   "outputs": [],
   "source": [
    "premLinks = getAllMatchesFor5Seasons(premURL, isBundesLiga=False)"
   ]
  },
  {
   "cell_type": "code",
   "execution_count": 83,
   "id": "b56b9ff8",
   "metadata": {},
   "outputs": [],
   "source": [
    "bundesLigaLinks = getAllMatchesFor5Seasons(bundesLigaURL, isBundesLiga=True)"
   ]
  },
  {
   "cell_type": "code",
   "execution_count": 84,
   "id": "3e969074",
   "metadata": {},
   "outputs": [],
   "source": [
    "serieALinks = getAllMatchesFor5Seasons(serieAURL, isBundesLiga=False)"
   ]
  },
  {
   "cell_type": "code",
   "execution_count": 85,
   "id": "337c4937",
   "metadata": {},
   "outputs": [],
   "source": [
    "laLigaLinks = getAllMatchesFor5Seasons(laLigaURL, isBundesLiga=False)"
   ]
  },
  {
   "cell_type": "code",
   "execution_count": 86,
   "id": "1de9c334",
   "metadata": {},
   "outputs": [],
   "source": [
    "ligue1Links = getAllMatchesFor5Seasons(ligue1URL, isBundesLiga=True)"
   ]
  },
  {
   "cell_type": "code",
   "execution_count": 88,
   "id": "c4f7c656",
   "metadata": {},
   "outputs": [],
   "source": [
    "allLinks = [] \n",
    "allLinks.extend(ligue1Links)\n",
    "allLinks.extend(laLigaLinks)\n",
    "allLinks.extend(premLinks)\n",
    "allLinks.extend(serieALinks)\n",
    "allLinks.extend(bundesLigaLinks)\n",
    "\n"
   ]
  },
  {
   "cell_type": "code",
   "execution_count": 95,
   "id": "bc96bc14",
   "metadata": {},
   "outputs": [],
   "source": [
    "df= pd.DataFrame(allLinks)\n",
    "df.to_csv(\"Links.csv\")"
   ]
  }
 ],
 "metadata": {
  "kernelspec": {
   "display_name": "FootyIQVenv (3.12.5)",
   "language": "python",
   "name": "python3"
  },
  "language_info": {
   "codemirror_mode": {
    "name": "ipython",
    "version": 3
   },
   "file_extension": ".py",
   "mimetype": "text/x-python",
   "name": "python",
   "nbconvert_exporter": "python",
   "pygments_lexer": "ipython3",
   "version": "3.12.5"
  }
 },
 "nbformat": 4,
 "nbformat_minor": 5
}
